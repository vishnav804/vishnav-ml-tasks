{
 "cells": [
  {
   "cell_type": "code",
   "execution_count": 23,
   "id": "8247a834",
   "metadata": {},
   "outputs": [],
   "source": [
    "\n",
    "#SVM - supervised learning -  discriminative classifier\n",
    "#Margin - Hyperplane - Support Vectors // SVM kernals\n",
    "#!pip install opencv-python\n"
   ]
  },
  {
   "cell_type": "code",
   "execution_count": 24,
   "id": "48a8a9b6",
   "metadata": {},
   "outputs": [
    {
     "name": "stdout",
     "output_type": "stream",
     "text": [
      "Import Done\n"
     ]
    }
   ],
   "source": [
    "#Imports\n",
    "import os\n",
    "import numpy as np\n",
    "import cv2\n",
    "import matplotlib.pyplot as plt\n",
    "import pickle\n",
    "import random\n",
    "from sklearn.model_selection import train_test_split\n",
    "from sklearn.svm import SVC\n",
    "print(\"Import Done\")"
   ]
  },
  {
   "cell_type": "code",
   "execution_count": 26,
   "id": "375af88f",
   "metadata": {},
   "outputs": [
    {
     "name": "stdout",
     "output_type": "stream",
     "text": [
      "160\n"
     ]
    }
   ],
   "source": [
    "#Loading the Data\n",
    "dir='C:\\\\Users\\\\deeks\\\\Desktop\\\\Internships\\\\CD\\\\CD'\n",
    "categories=['CATS','DOGS']\n",
    "data=[]\n",
    "for category in categories:\n",
    "    path=os.path.join(dir,category)\n",
    "    label=categories.index(category)\n",
    "    \n",
    "    for img in os.listdir(path):\n",
    "        imgpath=os.path.join(path,img)\n",
    "        pet_img=cv2.imread(imgpath,0)\n",
    "        try:\n",
    "            pet_img=cv2.resize(pet_img,(50,50))\n",
    "            image=np.array(pet_img).flatten()\n",
    "\n",
    "            data.append([image,label])\n",
    "        except Exception as e:\n",
    "            pass\n",
    "        \n",
    "print(len(data))"
   ]
  },
  {
   "cell_type": "code",
   "execution_count": 27,
   "id": "508e0f47",
   "metadata": {},
   "outputs": [
    {
     "data": {
      "text/plain": [
       "\"pick_in=open('data1.pickle','wb')\\npickle.dump(data,pick_in)\\npick_in.close()\""
      ]
     },
     "execution_count": 27,
     "metadata": {},
     "output_type": "execute_result"
    }
   ],
   "source": [
    "\"\"\"pick_in=open('data1.pickle','wb')\n",
    "pickle.dump(data,pick_in)\n",
    "pick_in.close()\"\"\" # ---> one run to save model"
   ]
  },
  {
   "cell_type": "code",
   "execution_count": 28,
   "id": "fd2d2b3f",
   "metadata": {},
   "outputs": [],
   "source": [
    "pick_in=open('data1.pickle','rb')\n",
    "data=pickle.load(pick_in)\n",
    "pick_in.close()"
   ]
  },
  {
   "cell_type": "code",
   "execution_count": 29,
   "id": "4e175c5b",
   "metadata": {},
   "outputs": [],
   "source": [
    "random.shuffle(data)\n",
    "features=[]\n",
    "labels=[]\n",
    "for feature,label in data:\n",
    "    features.append(feature)\n",
    "    labels.append(label)"
   ]
  },
  {
   "cell_type": "code",
   "execution_count": 30,
   "id": "a5afc477",
   "metadata": {},
   "outputs": [],
   "source": [
    "x_train,x_test,y_train,y_test=train_test_split(features,labels,test_size=0.25)"
   ]
  },
  {
   "cell_type": "code",
   "execution_count": 31,
   "id": "31542613",
   "metadata": {},
   "outputs": [
    {
     "data": {
      "text/plain": [
       "\"#Model Evaluation\\nmodel=SVC(C=1,kernel='poly',gamma='auto')\\nmodel.fit(x_train,y_train)\\npick=open('model1.sav','wb')\\npickle.dump(model,pick)\\npick.close()\""
      ]
     },
     "execution_count": 31,
     "metadata": {},
     "output_type": "execute_result"
    }
   ],
   "source": [
    "\"\"\"#Model Evaluation\n",
    "model=SVC(C=1,kernel='poly',gamma='auto')\n",
    "model.fit(x_train,y_train)\n",
    "pick=open('model1.sav','wb')\n",
    "pickle.dump(model,pick)\n",
    "pick.close()\"\"\""
   ]
  },
  {
   "cell_type": "code",
   "execution_count": 32,
   "id": "87cbd182",
   "metadata": {},
   "outputs": [],
   "source": [
    "pick=open('model1.sav','rb')\n",
    "model=pickle.load(pick)\n",
    "pick.close()"
   ]
  },
  {
   "cell_type": "code",
   "execution_count": 33,
   "id": "116c9fa9",
   "metadata": {},
   "outputs": [
    {
     "name": "stdout",
     "output_type": "stream",
     "text": [
      "Accuracy:  95.0\n",
      "Prediction of randomly selected image from dataset:  CATS\n"
     ]
    }
   ],
   "source": [
    "prediction=model.predict(x_test)\n",
    "accuracy=model.score(x_test,y_test)\n",
    "categories=['CATS','DOGS']\n",
    "print('Accuracy: ',accuracy*100)\n",
    "print('Prediction of randomly selected image from dataset: ',categories[prediction[0]])\n",
    "mypet=x_test[0].reshape(50,50)"
   ]
  }
 ],
 "metadata": {
  "kernelspec": {
   "display_name": "Python 3 (ipykernel)",
   "language": "python",
   "name": "python3"
  },
  "language_info": {
   "codemirror_mode": {
    "name": "ipython",
    "version": 3
   },
   "file_extension": ".py",
   "mimetype": "text/x-python",
   "name": "python",
   "nbconvert_exporter": "python",
   "pygments_lexer": "ipython3",
   "version": "3.11.5"
  }
 },
 "nbformat": 4,
 "nbformat_minor": 5
}
